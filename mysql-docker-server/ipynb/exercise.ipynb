{
 "cells": [
  {
   "cell_type": "markdown",
   "id": "290be32a-1eb3-473f-8b3c-a3823dfae4ed",
   "metadata": {},
   "source": [
    "*ข้อดีของการใช้ Docker คือ คุณไม่ต้องเตรียม XAMPP และ import ใด ๆ ทั้งสิ้นที่เขาเล่าในใบงานโจทย์ เพราะเราเตรียมไว้แบบ automatic อยู่แล้ว อิอิ*"
   ]
  },
  {
   "cell_type": "markdown",
   "id": "118c07ef-9589-4779-bbb4-a9c696a67a15",
   "metadata": {},
   "source": [
    "# เชื่อมต่อ Jupyter Lab ไปยัง MySQL"
   ]
  },
  {
   "cell_type": "markdown",
   "id": "16493835-cd0d-477b-8684-fa2fd295113c",
   "metadata": {},
   "source": [
    "เรียกใช้ module `ipython-sql`"
   ]
  },
  {
   "cell_type": "code",
   "execution_count": null,
   "id": "12a7c0d2-be50-4068-b98d-58093ad82d2c",
   "metadata": {},
   "outputs": [],
   "source": [
    "%load_ext sql"
   ]
  },
  {
   "cell_type": "markdown",
   "id": "3c1d0978-e312-4adc-8269-0defb3e7f690",
   "metadata": {},
   "source": [
    "Login ด้วย username `root` และ password `secret` ไปยัง `db` เนื่องจากเราเอาไว้ทำแบบฝึกเท่านั้น ดังนั้นไม่ serious เรื่อง security ที่นี่"
   ]
  },
  {
   "cell_type": "code",
   "execution_count": null,
   "id": "8f99e9f5-4afe-4196-98b7-1034edee19e1",
   "metadata": {},
   "outputs": [],
   "source": [
    "%sql mysql+pymysql://root:secret@db/CompanyElmasri"
   ]
  },
  {
   "cell_type": "markdown",
   "id": "d3885e4c-3055-4e23-8484-c3af7e1b232f",
   "metadata": {},
   "source": [
    "Now, you're ready to go!"
   ]
  },
  {
   "cell_type": "markdown",
   "id": "8b48ce50-c7de-4d99-bd14-e6c75b5e8058",
   "metadata": {},
   "source": [
    "# แบบฝึกหัด"
   ]
  },
  {
   "cell_type": "markdown",
   "id": "26fb4e1a-129c-4958-80b0-df99df1511ac",
   "metadata": {
    "tags": []
   },
   "source": [
    "## ข้อ 1"
   ]
  },
  {
   "cell_type": "code",
   "execution_count": null,
   "id": "67ebb2e4-b772-44bb-be6c-ea65148fc73d",
   "metadata": {},
   "outputs": [],
   "source": [
    "# Your answer\n",
    "%sql "
   ]
  },
  {
   "cell_type": "markdown",
   "id": "624e4176-9cfd-472b-8c77-21a791a47513",
   "metadata": {
    "tags": []
   },
   "source": [
    "*Double click ที่นี่เพื่อดูเฉลย*\n",
    "\n",
    "<!--\n",
    "     SELECT fname as `First Name`, \\\n",
    "            minit as `Middle init`, \\\n",
    "            lname as `Last Name` \\\n",
    "     FROM   employee \\\n",
    "     WHERE  salary < 45000;\n",
    "-->"
   ]
  },
  {
   "cell_type": "markdown",
   "id": "b90db08d-0266-4002-8bbf-eaac7b2e46cc",
   "metadata": {
    "tags": []
   },
   "source": [
    "## ข้อ 2"
   ]
  },
  {
   "cell_type": "code",
   "execution_count": null,
   "id": "bb8eb7d7-5eaa-44bc-99c5-afa11b631d3e",
   "metadata": {},
   "outputs": [],
   "source": [
    "# Your answer\n",
    "%sql "
   ]
  },
  {
   "cell_type": "markdown",
   "id": "23ba4848-e38d-46fd-a9fa-3776c8323842",
   "metadata": {
    "tags": []
   },
   "source": [
    "*Double click ที่นี่เพื่อดูเฉลย*\n",
    "\n",
    "<!--\n",
    "     SELECT fname as `First Name`, \\\n",
    "            minit as `Middle init`, \\\n",
    "            lname as `Last Name`, \\\n",
    "            salary as `Salary` \\\n",
    "     FROM   employee \\\n",
    "     WHERE  ssn = \"987987987\";\n",
    "-->"
   ]
  },
  {
   "cell_type": "markdown",
   "id": "9d919e2d-5dc2-46a5-9aa8-319ffad1bf95",
   "metadata": {
    "tags": []
   },
   "source": [
    "## ข้อ 3"
   ]
  },
  {
   "cell_type": "code",
   "execution_count": null,
   "id": "36ab133b-c0e2-4a68-9855-2bd339107ba5",
   "metadata": {},
   "outputs": [],
   "source": [
    "# Your answer\n",
    "%sql "
   ]
  },
  {
   "cell_type": "markdown",
   "id": "9cfb0880-e4aa-4b86-99ab-5d18e286f88a",
   "metadata": {
    "tags": []
   },
   "source": [
    "*Double click ที่นี่เพื่อดูเฉลย*\n",
    "\n",
    "<!--\n",
    "     SELECT ssn as `SSN`, \\\n",
    "            fname as `First Name`, \\\n",
    "            minit as `Middle init`, \\\n",
    "            lname as `Last Name`, \\\n",
    "            address as `Address`, \\\n",
    "            bdate as `Birthday` \\\n",
    "     FROM   employee \\\n",
    "     WHERE  bdate < \"1965-01-01\" \\\n",
    "            AND salary < 70000;\n",
    "-->"
   ]
  },
  {
   "cell_type": "markdown",
   "id": "6c2ec2cf-c862-4f3c-aa8d-308b7f3255de",
   "metadata": {
    "tags": []
   },
   "source": [
    "## ข้อ 4"
   ]
  },
  {
   "cell_type": "code",
   "execution_count": null,
   "id": "4f3513a1-4a6a-4f44-8de0-3b15e08d8811",
   "metadata": {},
   "outputs": [],
   "source": [
    "# Your answer\n",
    "%sql "
   ]
  },
  {
   "cell_type": "markdown",
   "id": "19613e91-d7cc-42b8-b8ab-7bafa37fcbf5",
   "metadata": {
    "tags": []
   },
   "source": [
    "## ข้อ 5"
   ]
  },
  {
   "cell_type": "code",
   "execution_count": null,
   "id": "52590dfc-50f3-4379-9f90-30d9b39939d4",
   "metadata": {},
   "outputs": [],
   "source": [
    "# Your answer\n",
    "%sql "
   ]
  },
  {
   "cell_type": "markdown",
   "id": "e8d9198c-957b-480f-8a36-89fe12879d9b",
   "metadata": {
    "tags": []
   },
   "source": [
    "## ข้อ 6"
   ]
  },
  {
   "cell_type": "code",
   "execution_count": null,
   "id": "3d162663-66cf-4405-a6ff-5e845ebe37b3",
   "metadata": {},
   "outputs": [],
   "source": [
    "# Your answer\n",
    "%sql "
   ]
  },
  {
   "cell_type": "markdown",
   "id": "ba8a4e29-2830-4ef7-8e56-527ab7674e16",
   "metadata": {
    "tags": []
   },
   "source": [
    "## ข้อ 7"
   ]
  },
  {
   "cell_type": "code",
   "execution_count": null,
   "id": "811d818c-3c07-4b38-adfa-d103ef173392",
   "metadata": {},
   "outputs": [],
   "source": [
    "# Your answer\n",
    "%sql "
   ]
  },
  {
   "cell_type": "markdown",
   "id": "cc71b349-2c59-42b9-a95c-9ae3455ec022",
   "metadata": {
    "tags": []
   },
   "source": [
    "## ข้อ 8"
   ]
  },
  {
   "cell_type": "code",
   "execution_count": null,
   "id": "5cfde6f5-3e57-4a57-905a-dedfdc1fc081",
   "metadata": {},
   "outputs": [],
   "source": [
    "# Your answer\n",
    "%sql "
   ]
  },
  {
   "cell_type": "markdown",
   "id": "7b0cd839-62dc-4878-929b-d04a5acb59a1",
   "metadata": {
    "tags": []
   },
   "source": [
    "## ข้อ 9"
   ]
  },
  {
   "cell_type": "code",
   "execution_count": null,
   "id": "967bdbc9-088d-4b9e-9201-2363353ef590",
   "metadata": {},
   "outputs": [],
   "source": [
    "# Your answer\n",
    "%sql "
   ]
  },
  {
   "cell_type": "markdown",
   "id": "a01c8f27-48a4-4fcb-b0f4-aa5b01c96e99",
   "metadata": {
    "tags": []
   },
   "source": [
    "## ข้อ 10"
   ]
  },
  {
   "cell_type": "code",
   "execution_count": null,
   "id": "97569833-111c-420d-ba6c-39966004b7cf",
   "metadata": {},
   "outputs": [],
   "source": [
    "# Your answer\n",
    "%sql "
   ]
  },
  {
   "cell_type": "markdown",
   "id": "88094df6-b179-49fa-81f9-7d62acfbc125",
   "metadata": {
    "tags": []
   },
   "source": [
    "## ข้อ 11"
   ]
  },
  {
   "cell_type": "code",
   "execution_count": null,
   "id": "73804448-faea-4f22-93fe-b6f3b108256d",
   "metadata": {},
   "outputs": [],
   "source": [
    "# Your answer\n",
    "%sql "
   ]
  },
  {
   "cell_type": "markdown",
   "id": "854b7895-154d-4721-820f-5796dcb750ca",
   "metadata": {
    "tags": []
   },
   "source": [
    "## ข้อ 12"
   ]
  },
  {
   "cell_type": "code",
   "execution_count": null,
   "id": "1538b06b-4aaa-4da3-b5a0-f8b69bfc4dfb",
   "metadata": {},
   "outputs": [],
   "source": [
    "# Your answer\n",
    "%sql "
   ]
  },
  {
   "cell_type": "markdown",
   "id": "11bcc92a-f5d7-479f-a445-e1c4bf12815b",
   "metadata": {
    "tags": []
   },
   "source": [
    "## ข้อ 13"
   ]
  },
  {
   "cell_type": "code",
   "execution_count": null,
   "id": "9876ce86-f699-4ba9-aa55-05977970dcd6",
   "metadata": {},
   "outputs": [],
   "source": [
    "# Your answer\n",
    "%sql "
   ]
  },
  {
   "cell_type": "markdown",
   "id": "aee7fdfb-df4f-4b55-8f0d-85f989e01179",
   "metadata": {
    "tags": []
   },
   "source": [
    "## ข้อ 14"
   ]
  },
  {
   "cell_type": "code",
   "execution_count": null,
   "id": "7744378a-b73d-48b6-a9d0-620008899a41",
   "metadata": {},
   "outputs": [],
   "source": [
    "# Your answer\n",
    "%sql "
   ]
  },
  {
   "cell_type": "markdown",
   "id": "290fceab-e969-4c3c-b47c-a7330ab1e5ff",
   "metadata": {
    "tags": []
   },
   "source": [
    "## ข้อ 15"
   ]
  },
  {
   "cell_type": "code",
   "execution_count": null,
   "id": "465a6205-9789-47f6-9b18-dc62f5c9904c",
   "metadata": {},
   "outputs": [],
   "source": [
    "# Your answer\n",
    "%sql "
   ]
  },
  {
   "cell_type": "markdown",
   "id": "6ebe3fbf-e10b-4419-ae3c-9767fcb2e48a",
   "metadata": {
    "tags": []
   },
   "source": [
    "## ข้อ 16"
   ]
  },
  {
   "cell_type": "code",
   "execution_count": null,
   "id": "6137f68d-a633-4028-9abb-f48abb7091f0",
   "metadata": {},
   "outputs": [],
   "source": [
    "# Your answer\n",
    "%sql "
   ]
  },
  {
   "cell_type": "markdown",
   "id": "c96411f2-4947-4b8d-b6e3-befafe709af3",
   "metadata": {
    "tags": []
   },
   "source": [
    "## ข้อ 17"
   ]
  },
  {
   "cell_type": "code",
   "execution_count": null,
   "id": "fd708e81-de19-4c1e-a380-ce6836b92802",
   "metadata": {},
   "outputs": [],
   "source": [
    "# Your answer\n",
    "%sql "
   ]
  },
  {
   "cell_type": "markdown",
   "id": "351a0d22-3019-4cc4-9946-6cf743dc37ef",
   "metadata": {
    "tags": []
   },
   "source": [
    "## ข้อ 18"
   ]
  },
  {
   "cell_type": "code",
   "execution_count": null,
   "id": "a4b9b9f0-0726-4c8f-a63f-efc64e6a79ba",
   "metadata": {},
   "outputs": [],
   "source": [
    "# Your answer\n",
    "%sql "
   ]
  },
  {
   "cell_type": "markdown",
   "id": "57e726af-cfee-446f-b631-50309206d09d",
   "metadata": {
    "tags": []
   },
   "source": [
    "## ข้อ 19"
   ]
  },
  {
   "cell_type": "code",
   "execution_count": null,
   "id": "650374fc-1028-4cab-97a7-26b66584fd03",
   "metadata": {},
   "outputs": [],
   "source": [
    "# Your answer\n",
    "%sql "
   ]
  },
  {
   "cell_type": "markdown",
   "id": "84382c18-47e3-4d54-92b3-062ef3149e3c",
   "metadata": {
    "tags": []
   },
   "source": [
    "## ข้อ 20"
   ]
  },
  {
   "cell_type": "code",
   "execution_count": null,
   "id": "5010af2d-ef8d-4b39-a939-0905dc4fe175",
   "metadata": {},
   "outputs": [],
   "source": [
    "# Your answer\n",
    "%sql "
   ]
  },
  {
   "cell_type": "markdown",
   "id": "3e3f4b02-e834-46ca-a5d5-41a8c274336b",
   "metadata": {
    "tags": []
   },
   "source": [
    "## ข้อ 21"
   ]
  },
  {
   "cell_type": "code",
   "execution_count": null,
   "id": "23cfec7a-54be-44b8-b699-29d3474a458b",
   "metadata": {},
   "outputs": [],
   "source": [
    "# Your answer\n",
    "%sql "
   ]
  },
  {
   "cell_type": "markdown",
   "id": "d202133b-9bbc-4b2b-835c-ba845704cf23",
   "metadata": {
    "tags": []
   },
   "source": [
    "## ข้อ 22"
   ]
  },
  {
   "cell_type": "code",
   "execution_count": null,
   "id": "38e45d46-9297-4913-8518-76d79873a8e8",
   "metadata": {},
   "outputs": [],
   "source": [
    "# Your answer\n",
    "%sql "
   ]
  },
  {
   "cell_type": "markdown",
   "id": "0d4d6a67-c30a-4536-b1fc-77b97fc189ea",
   "metadata": {
    "tags": []
   },
   "source": [
    "## ข้อ 23"
   ]
  },
  {
   "cell_type": "code",
   "execution_count": null,
   "id": "a0eb7310-ac18-482c-bd35-05067fcaee0f",
   "metadata": {},
   "outputs": [],
   "source": [
    "# Your answer\n",
    "%sql "
   ]
  },
  {
   "cell_type": "markdown",
   "id": "646ef85b-8dd3-4468-9b71-4c5420f493b6",
   "metadata": {
    "tags": []
   },
   "source": [
    "## ข้อ 24"
   ]
  },
  {
   "cell_type": "code",
   "execution_count": null,
   "id": "e678205f-efd4-4305-a62d-c956dd06b81c",
   "metadata": {},
   "outputs": [],
   "source": [
    "# Your answer\n",
    "%sql "
   ]
  },
  {
   "cell_type": "markdown",
   "id": "543f8eb6-0307-4ba5-a3ba-57eddfd5dc07",
   "metadata": {
    "tags": []
   },
   "source": [
    "## ข้อ 25"
   ]
  },
  {
   "cell_type": "code",
   "execution_count": null,
   "id": "bdefa69c-f7a4-48ae-90b5-dcef6f2a226d",
   "metadata": {},
   "outputs": [],
   "source": [
    "# Your answer\n",
    "%sql "
   ]
  },
  {
   "cell_type": "markdown",
   "id": "f9b7a0ce-99cc-4e78-ac4b-38fbbc21e6d8",
   "metadata": {
    "tags": []
   },
   "source": [
    "## ข้อ 26"
   ]
  },
  {
   "cell_type": "code",
   "execution_count": null,
   "id": "d750053d-4009-4a44-bdaf-46b5bf49dc80",
   "metadata": {},
   "outputs": [],
   "source": [
    "# Your answer\n",
    "%sql "
   ]
  }
 ],
 "metadata": {
  "kernelspec": {
   "display_name": "Python 3 (ipykernel)",
   "language": "python",
   "name": "python3"
  },
  "language_info": {
   "codemirror_mode": {
    "name": "ipython",
    "version": 3
   },
   "file_extension": ".py",
   "mimetype": "text/x-python",
   "name": "python",
   "nbconvert_exporter": "python",
   "pygments_lexer": "ipython3",
   "version": "3.10.5"
  }
 },
 "nbformat": 4,
 "nbformat_minor": 5
}
