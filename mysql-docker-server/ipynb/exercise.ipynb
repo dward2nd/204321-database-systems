{
 "cells": [
  {
   "cell_type": "markdown",
   "id": "290be32a-1eb3-473f-8b3c-a3823dfae4ed",
   "metadata": {},
   "source": [
    "*ข้อดีของการใช้ Docker คือ คุณไม่ต้องเตรียม XAMPP และ import ใด ๆ ทั้งสิ้นที่เขาเล่าในใบงานโจทย์ เพราะเราเตรียมไว้แบบ automatic อยู่แล้ว อิอิ*"
   ]
  },
  {
   "cell_type": "markdown",
   "id": "118c07ef-9589-4779-bbb4-a9c696a67a15",
   "metadata": {},
   "source": [
    "# เชื่อมต่อ Jupyter Lab ไปยัง MySQL"
   ]
  },
  {
   "cell_type": "markdown",
   "id": "16493835-cd0d-477b-8684-fa2fd295113c",
   "metadata": {},
   "source": [
    "เรียกใช้ module `ipython-sql`"
   ]
  },
  {
   "cell_type": "code",
   "execution_count": null,
   "id": "12a7c0d2-be50-4068-b98d-58093ad82d2c",
   "metadata": {},
   "outputs": [],
   "source": [
    "%load_ext sql"
   ]
  },
  {
   "cell_type": "markdown",
   "id": "3c1d0978-e312-4adc-8269-0defb3e7f690",
   "metadata": {},
   "source": [
    "Login ด้วย username `root` และ password `secret` ไปยัง `db` เนื่องจากเราเอาไว้ทำแบบฝึกเท่านั้น ดังนั้นไม่ serious เรื่อง security ที่นี่"
   ]
  },
  {
   "cell_type": "code",
   "execution_count": null,
   "id": "8f99e9f5-4afe-4196-98b7-1034edee19e1",
   "metadata": {},
   "outputs": [],
   "source": [
    "%sql mysql+pymysql://root:secret@db/CompanyElmasri"
   ]
  },
  {
   "cell_type": "markdown",
   "id": "5d22ff95-8c85-4c13-b847-388d9d14eca4",
   "metadata": {},
   "source": [
    "ในการรันคำสั่ง SQL ให้นำหน้าด้วย `%sql` และพิมพ์คำสั่งไว้ภายในบรรทัดเดียวกัน หากต้องการเว้นบรรทัด ให้เขียน `\\` ลงท้าย\n",
    "\n",
    "**ตัวอย่าง** ต้องการเลือกทุกคอลัมน์ทุกแถวในตาราง `employee`\n",
    "\n",
    "```sql\n",
    "%sql SELECT * \\\n",
    "     FROM   employee;\n",
    "```\n",
    "\n",
    "*หมายเหตุ: SQL เป็นภาษา case-insensitive ดังนั้นไม่จำเป็นต้องใช้พิมพ์ใหญ่ทุกตัว เอาอาจจะพิมพ์ `select` แทนแบบนี้ก็ได้*"
   ]
  },
  {
   "cell_type": "markdown",
   "id": "d3885e4c-3055-4e23-8484-c3af7e1b232f",
   "metadata": {},
   "source": [
    "> ***Now, you're ready to go!***"
   ]
  },
  {
   "cell_type": "markdown",
   "id": "8b48ce50-c7de-4d99-bd14-e6c75b5e8058",
   "metadata": {},
   "source": [
    "# แบบฝึกหัด"
   ]
  },
  {
   "cell_type": "markdown",
   "id": "26fb4e1a-129c-4958-80b0-df99df1511ac",
   "metadata": {
    "tags": []
   },
   "source": [
    "## ข้อ 1"
   ]
  },
  {
   "cell_type": "code",
   "execution_count": null,
   "id": "67ebb2e4-b772-44bb-be6c-ea65148fc73d",
   "metadata": {},
   "outputs": [],
   "source": [
    "# Your answer\n",
    "%sql "
   ]
  },
  {
   "cell_type": "markdown",
   "id": "624e4176-9cfd-472b-8c77-21a791a47513",
   "metadata": {
    "tags": []
   },
   "source": [
    "*Double click ที่นี่เพื่อดูเฉลย*\n",
    "\n",
    "<!--\n",
    "     SELECT fname AS `First Name`, \\\n",
    "            minit AS `Middle init`, \\\n",
    "            lname AS `Last Name` \\\n",
    "     FROM   employee \\\n",
    "     WHERE  salary < 45000;\n",
    "-->"
   ]
  },
  {
   "cell_type": "markdown",
   "id": "b90db08d-0266-4002-8bbf-eaac7b2e46cc",
   "metadata": {
    "tags": []
   },
   "source": [
    "## ข้อ 2"
   ]
  },
  {
   "cell_type": "code",
   "execution_count": null,
   "id": "bb8eb7d7-5eaa-44bc-99c5-afa11b631d3e",
   "metadata": {},
   "outputs": [],
   "source": [
    "# Your answer\n",
    "%sql "
   ]
  },
  {
   "cell_type": "markdown",
   "id": "23ba4848-e38d-46fd-a9fa-3776c8323842",
   "metadata": {
    "tags": []
   },
   "source": [
    "*Double click ที่นี่เพื่อดูเฉลย*\n",
    "\n",
    "<!--\n",
    "     SELECT fname AS `First Name`, \\\n",
    "            minit AS `Middle init`, \\\n",
    "            lname AS `Last Name`, \\\n",
    "            salary AS `Salary` \\\n",
    "     FROM   employee \\\n",
    "     WHERE  ssn = \"987987987\";\n",
    "-->"
   ]
  },
  {
   "cell_type": "markdown",
   "id": "9d919e2d-5dc2-46a5-9aa8-319ffad1bf95",
   "metadata": {
    "tags": []
   },
   "source": [
    "## ข้อ 3"
   ]
  },
  {
   "cell_type": "code",
   "execution_count": null,
   "id": "36ab133b-c0e2-4a68-9855-2bd339107ba5",
   "metadata": {},
   "outputs": [],
   "source": [
    "# Your answer\n",
    "%sql "
   ]
  },
  {
   "cell_type": "markdown",
   "id": "9cfb0880-e4aa-4b86-99ab-5d18e286f88a",
   "metadata": {
    "tags": []
   },
   "source": [
    "*Double click ที่นี่เพื่อดูเฉลย*\n",
    "\n",
    "<!--\n",
    "     SELECT ssn AS `SSN`, \\\n",
    "            fname AS `First Name`, \\\n",
    "            minit AS `Middle init`, \\\n",
    "            lname AS `Last Name`, \\\n",
    "            address AS `Address`, \\\n",
    "            bdate AS `Birthday` \\\n",
    "     FROM   employee \\\n",
    "     WHERE  bdate < \"1965-01-01\" \\\n",
    "            AND salary < 70000;\n",
    "-->"
   ]
  },
  {
   "cell_type": "markdown",
   "id": "6c2ec2cf-c862-4f3c-aa8d-308b7f3255de",
   "metadata": {
    "tags": []
   },
   "source": [
    "## ข้อ 4"
   ]
  },
  {
   "cell_type": "code",
   "execution_count": null,
   "id": "4f3513a1-4a6a-4f44-8de0-3b15e08d8811",
   "metadata": {},
   "outputs": [],
   "source": [
    "# Your answer\n",
    "%sql "
   ]
  },
  {
   "cell_type": "markdown",
   "id": "9b15fdfa-272a-43c1-b19a-adc24e29fecf",
   "metadata": {
    "tags": []
   },
   "source": [
    "*Double click ที่นี่เพื่อดูเฉลย*\n",
    "\n",
    "<!--\n",
    "     SELECT ssn AS `SSN`, \\\n",
    "            fname AS `First Name`, \\\n",
    "            minit AS `Middle init`, \\\n",
    "            lname AS `Last Name`, \\\n",
    "            salary AS `Salary` \\\n",
    "     FROM   employee \\\n",
    "     WHERE  super_ssn IS NULL;\n",
    "-->"
   ]
  },
  {
   "cell_type": "markdown",
   "id": "19613e91-d7cc-42b8-b8ab-7bafa37fcbf5",
   "metadata": {
    "tags": []
   },
   "source": [
    "## ข้อ 5"
   ]
  },
  {
   "cell_type": "code",
   "execution_count": null,
   "id": "52590dfc-50f3-4379-9f90-30d9b39939d4",
   "metadata": {},
   "outputs": [],
   "source": [
    "# Your answer\n",
    "%sql "
   ]
  },
  {
   "cell_type": "markdown",
   "id": "988c71e0-b167-4356-8e57-595f56fa8970",
   "metadata": {
    "tags": []
   },
   "source": [
    "*Double click ที่นี่เพื่อดูเฉลย*\n",
    "\n",
    "<!--\n",
    "     --Not recommend because it queries 2 times.\n",
    "     SELECT dname AS `Department` \\\n",
    "     FROM   department \\\n",
    "     WHERE  dnumber = (SELECT dno \\\n",
    "                       FROM   employee \\\n",
    "                       WHERE  fname = \"Joyce\" \\\n",
    "                              AND minit = \"A\" \\\n",
    "                              AND lname = \"English\" \\\n",
    "                      );\n",
    "     \n",
    "     หรือ\n",
    "     \n",
    "     SELECT dname AS `Department` \\\n",
    "     FROM   department \\\n",
    "     JOIN   employee ON dnumber = dno \\\n",
    "     WHERE  fname = \"Joyce\" \\\n",
    "            AND minit = \"A\" \\\n",
    "            AND lname = \"English\";\n",
    "     \n",
    "     หรือ\n",
    "     \n",
    "     SELECT dname AS `Department` \\\n",
    "     FROM   department, employee \\\n",
    "     WHERE  dnumber = dno \\\n",
    "            AND fname = \"Joyce\" \\\n",
    "            AND minit = \"A\" \\\n",
    "            AND lname = \"English\";\n",
    "-->"
   ]
  },
  {
   "cell_type": "markdown",
   "id": "e8d9198c-957b-480f-8a36-89fe12879d9b",
   "metadata": {
    "tags": []
   },
   "source": [
    "## ข้อ 6"
   ]
  },
  {
   "cell_type": "code",
   "execution_count": null,
   "id": "3d162663-66cf-4405-a6ff-5e845ebe37b3",
   "metadata": {},
   "outputs": [],
   "source": [
    "# Your answer\n",
    "%sql "
   ]
  },
  {
   "cell_type": "markdown",
   "id": "4ac122fe-1e6f-42de-9955-0fb8d9233344",
   "metadata": {
    "tags": []
   },
   "source": [
    "*Double click ที่นี่เพื่อดูเฉลย*\n",
    "\n",
    "<!--\n",
    "     SELECT   ssn AS `SSN`, \\\n",
    "              fname AS `First Name`, \\\n",
    "              minit AS `Middle init`, \\\n",
    "              lname AS `Last Name` \\\n",
    "     FROM     employee \\\n",
    "     WHERE    lname LIKE \"_a%s\" \\\n",
    "     ORDER BY lname DESC, \\\n",
    "              fname;\n",
    "-->"
   ]
  },
  {
   "cell_type": "markdown",
   "id": "ba8a4e29-2830-4ef7-8e56-527ab7674e16",
   "metadata": {
    "tags": []
   },
   "source": [
    "## ข้อ 7"
   ]
  },
  {
   "cell_type": "code",
   "execution_count": null,
   "id": "811d818c-3c07-4b38-adfa-d103ef173392",
   "metadata": {},
   "outputs": [],
   "source": [
    "# Your answer\n",
    "%sql "
   ]
  },
  {
   "cell_type": "markdown",
   "id": "e04c46fc-ddbe-4734-8229-7abf002abc0e",
   "metadata": {
    "tags": []
   },
   "source": [
    "*Double click ที่นี่เพื่อดูเฉลย*\n",
    "\n",
    "<!--\n",
    "     --Not Recommended because it queries 2 times.\n",
    "     SELECT   fname AS `First Name`, \\\n",
    "              minit AS `Middle init`, \\\n",
    "              lname AS `Last Name` \\\n",
    "     FROM     employee \\\n",
    "     WHERE    dno != (SELECT dnumber \\\n",
    "                      FROM   department \\\n",
    "                      WHERE  dname = \"Headquarters\" \\\n",
    "                     );\n",
    "     \n",
    "     หรือ\n",
    "\n",
    "     SELECT   fname AS `First Name`, \\\n",
    "              minit AS `Middle init`, \\\n",
    "              lname AS `Last Name` \\\n",
    "     FROM     employee, department \\\n",
    "     WHERE    dno = dnumber \\\n",
    "              AND dname != \"Headquarters\";\n",
    "\n",
    "     หรือ\n",
    "\n",
    "     SELECT   fname AS `First Name`, \\\n",
    "              minit AS `Middle init`, \\\n",
    "              lname AS `Last Name` \\\n",
    "     FROM     employee \\\n",
    "     JOIN     department ON dno = dnumber \\\n",
    "     WHERE    dname != \"Headquarters\";\n",
    "-->"
   ]
  },
  {
   "cell_type": "markdown",
   "id": "cc71b349-2c59-42b9-a95c-9ae3455ec022",
   "metadata": {
    "tags": []
   },
   "source": [
    "## ข้อ 8"
   ]
  },
  {
   "cell_type": "code",
   "execution_count": null,
   "id": "5cfde6f5-3e57-4a57-905a-dedfdc1fc081",
   "metadata": {},
   "outputs": [],
   "source": [
    "# Your answer\n",
    "%sql "
   ]
  },
  {
   "cell_type": "markdown",
   "id": "6418fd78-6ae4-4b2d-8546-349a3ee679b1",
   "metadata": {
    "tags": []
   },
   "source": [
    "*Double click ที่นี่เพื่อดูเฉลย*\n",
    "\n",
    "<!--\n",
    "     SELECT employee.ssn AS `SSN`, \\\n",
    "            project.pname AS `Project`, \\\n",
    "            works_on.hours AS `Hours` \\\n",
    "     FROM   works_on, \\\n",
    "            project, \\\n",
    "            employee \\\n",
    "     WHERE  pno = pnumber \\\n",
    "            AND essn = ssn \\\n",
    "            AND fname = \"Alicia\" \\\n",
    "            AND minit = \"J\" \\\n",
    "            AND lname = \"Zelaya\";\n",
    "\n",
    "     หรือ\n",
    "\n",
    "     SELECT essn AS `SSN`, \\\n",
    "            pname AS `Current Project`, \\\n",
    "            lname AS `Hours` \\\n",
    "     FROM   works_on \\\n",
    "     JOIN   project ON pno = pnumber \\\n",
    "     JOIN   employee ON essn = ssn \\\n",
    "     WHERE  fname = \"Alicia\" \\\n",
    "            AND minit = \"J\" \\\n",
    "            AND lname = \"Zelaya\";\n",
    "-->"
   ]
  },
  {
   "cell_type": "markdown",
   "id": "7b0cd839-62dc-4878-929b-d04a5acb59a1",
   "metadata": {
    "tags": []
   },
   "source": [
    "## ข้อ 9"
   ]
  },
  {
   "cell_type": "code",
   "execution_count": null,
   "id": "967bdbc9-088d-4b9e-9201-2363353ef590",
   "metadata": {},
   "outputs": [],
   "source": [
    "# Your answer\n",
    "%sql "
   ]
  },
  {
   "cell_type": "markdown",
   "id": "a0bbc696-7a80-4c30-9652-56b0f092696b",
   "metadata": {
    "tags": []
   },
   "source": [
    "*Double click ที่นี่เพื่อดูเฉลย*\n",
    "\n",
    "<!--\n",
    "     SELECT   dname AS `Department`, \\\n",
    "              dlocation AS `Location` \\\n",
    "     FROM     department \\\n",
    "     JOIN     dept_locations \\\n",
    "       ON department.dnumber = dept_locations.dnumber \\\n",
    "     WHERE    dlocation IN ( \\\n",
    "                  \"Houston\", \\\n",
    "                  \"Atlanta\", \\\n",
    "                  \"Dallas\", \\\n",
    "                  \"Sacramento\" \\\n",
    "              ) \\\n",
    "     ORDER BY dname ASC;\n",
    "-->"
   ]
  },
  {
   "cell_type": "markdown",
   "id": "a01c8f27-48a4-4fcb-b0f4-aa5b01c96e99",
   "metadata": {
    "tags": []
   },
   "source": [
    "## ข้อ 10"
   ]
  },
  {
   "cell_type": "code",
   "execution_count": null,
   "id": "97569833-111c-420d-ba6c-39966004b7cf",
   "metadata": {},
   "outputs": [],
   "source": [
    "# Your answer\n",
    "%sql "
   ]
  },
  {
   "cell_type": "markdown",
   "id": "78ddf85f-68a0-43cf-966a-165a52c238c0",
   "metadata": {
    "tags": []
   },
   "source": [
    "*Double click ที่นี่เพื่อดูเฉลย*\n",
    "\n",
    "<!--\n",
    "     SELECT ssn AS `SSN`, \\\n",
    "            fname AS `First Name`, \\\n",
    "            minit AS `Middle init`, \\\n",
    "            lname AS `Last Name`, \\\n",
    "            dependent_name AS `Depentdent Name`, \\\n",
    "            relationship AS `Relationship` \\\n",
    "     FROM   employee \\\n",
    "     JOIN   dependent ON ssn = essn \\\n",
    "     WHERE  relationship IN ( \\\n",
    "                                \"Daughter\", \\\n",
    "                                \"Son\" \\\n",
    "                            ) \\\n",
    "     ORDER BY ssn ASC, \\\n",
    "              dependent_name ASC;\n",
    "\n",
    "     หรือ\n",
    "     \n",
    "     SELECT ssn AS `SSN`, \\\n",
    "            fname AS `First Name`, \\\n",
    "            minit AS `Middle init`, \\\n",
    "            lname AS `Last Name`, \\\n",
    "            dependent_name AS `Depentdent Name`, \\\n",
    "            relationship AS `Relationship` \\\n",
    "     FROM   employee, dependent \\\n",
    "     WHERE  ssn = essn \\\n",
    "            AND relationship IN ( \\\n",
    "                                    \"Daughter\", \\\n",
    "                                    \"Son\" \\\n",
    "                                ) \\\n",
    "     ORDER BY ssn ASC, \\\n",
    "              dependent_name ASC;\n",
    "-->"
   ]
  },
  {
   "cell_type": "markdown",
   "id": "88094df6-b179-49fa-81f9-7d62acfbc125",
   "metadata": {
    "tags": []
   },
   "source": [
    "## ข้อ 11"
   ]
  },
  {
   "cell_type": "code",
   "execution_count": null,
   "id": "73804448-faea-4f22-93fe-b6f3b108256d",
   "metadata": {},
   "outputs": [],
   "source": [
    "# Your answer\n",
    "%sql "
   ]
  },
  {
   "cell_type": "markdown",
   "id": "83f5cda7-d3eb-4e2b-b815-c04df0e25bec",
   "metadata": {
    "tags": []
   },
   "source": [
    "*Double click ที่นี่เพื่อดูเฉลย*\n",
    "\n",
    "<!--\n",
    "     SELECT employee.fname AS `First Name`, \\\n",
    "            employee.minit AS `Middle init`, \\\n",
    "            employee.lname AS `Last Name`, \\\n",
    "            project.pname AS `Project`, \\\n",
    "            dept_locations.dlocation AS `Location`, \\\n",
    "            department.dname \\\n",
    "     FROM   works_on \\\n",
    "     JOIN   project ON works_on.pno = project.pnumber \\\n",
    "     JOIN   employee ON works_on.essn = employee.ssn \\\n",
    "     JOIN   dept_locations ON project.dnum = dept_locations.dnumber \\\n",
    "     JOIN   department ON department.dnumber = project.dnum \\\n",
    "     WHERE  department.dname = \"Hardware\" \\\n",
    "            AND department.dnumber = project.dnum \\\n",
    "     ORDER BY pname DESC;\n",
    "-->"
   ]
  },
  {
   "cell_type": "markdown",
   "id": "854b7895-154d-4721-820f-5796dcb750ca",
   "metadata": {
    "tags": []
   },
   "source": [
    "## ข้อ 12"
   ]
  },
  {
   "cell_type": "code",
   "execution_count": null,
   "id": "1538b06b-4aaa-4da3-b5a0-f8b69bfc4dfb",
   "metadata": {},
   "outputs": [],
   "source": [
    "# Your answer\n",
    "%sql "
   ]
  },
  {
   "cell_type": "markdown",
   "id": "9d24f82d-2df2-4538-8f47-9607e06f58db",
   "metadata": {
    "tags": []
   },
   "source": [
    "*Double click ที่นี่เพื่อดูเฉลย*\n",
    "\n",
    "<!--\n",
    "     SELECT ssn AS `SSN`, \\\n",
    "            fname AS `First Name`, \\\n",
    "            minit AS `Middle init`, \\\n",
    "            lname AS `Last Name` \\\n",
    "     FROM   employee \\\n",
    "     JOIN   department ON dno = dnumber \\\n",
    "     WHERE  dname = \"Research\" \\\n",
    "            AND ssn NOT IN (SELECT DISTINCT essn \\\n",
    "                            FROM   dependent \\\n",
    "                           );\n",
    "-->"
   ]
  },
  {
   "cell_type": "markdown",
   "id": "11bcc92a-f5d7-479f-a445-e1c4bf12815b",
   "metadata": {
    "tags": []
   },
   "source": [
    "## ข้อ 13"
   ]
  },
  {
   "cell_type": "code",
   "execution_count": null,
   "id": "9876ce86-f699-4ba9-aa55-05977970dcd6",
   "metadata": {},
   "outputs": [],
   "source": [
    "# Your answer\n",
    "%sql "
   ]
  },
  {
   "cell_type": "markdown",
   "id": "e67e93d6-6c5b-40d3-843f-0623a691d8e2",
   "metadata": {
    "tags": []
   },
   "source": [
    "*Double click ที่นี่เพื่อดูเฉลย*\n",
    "\n",
    "<!--\n",
    "     SELECT employee.ssn AS E_SSN, \\\n",
    "            employee.fname AS E_Fname, \\\n",
    "            employee.minit AS E_Minit, \\\n",
    "            employee.lname AS E_Lname, \\\n",
    "            employee.salary AS E_Salary, \\\n",
    "            manager.ssn AS S_SSN, \\\n",
    "            manager.fname AS S_Fname, \\\n",
    "            manager.minit AS S_Minit, \\\n",
    "            manager.lname AS S_Lname, \\\n",
    "            manager.salary AS S_Salary, \\\n",
    "            ABS(employee.salary - manager.salary) AS Diff_Salary \\\n",
    "     FROM   employee, \\\n",
    "            department, \\\n",
    "            employee AS manager \\\n",
    "     WHERE  employee.dno = department.dnumber \\\n",
    "            AND manager.ssn = department.mgr_ssn \\\n",
    "            AND manager.dno = employee.dno \\\n",
    "            AND ABS(employee.salary - manager.salary) > 30000;\n",
    "-->"
   ]
  },
  {
   "cell_type": "markdown",
   "id": "aee7fdfb-df4f-4b55-8f0d-85f989e01179",
   "metadata": {
    "tags": []
   },
   "source": [
    "## ข้อ 14"
   ]
  },
  {
   "cell_type": "code",
   "execution_count": null,
   "id": "7744378a-b73d-48b6-a9d0-620008899a41",
   "metadata": {},
   "outputs": [],
   "source": [
    "# Your answer\n",
    "%sql "
   ]
  },
  {
   "cell_type": "markdown",
   "id": "e8dbd296-c1ab-4753-97c9-ec0d241f0c22",
   "metadata": {
    "tags": []
   },
   "source": [
    "*Double click ที่นี่เพื่อดูเฉลย*\n",
    "\n",
    "<!--\n",
    "     SELECT COUNT(*) AS `count` \\\n",
    "     FROM   employee \\\n",
    "     JOIN   department ON dno = dnumber \\\n",
    "     WHERE  dno = 7;\n",
    "-->"
   ]
  },
  {
   "cell_type": "markdown",
   "id": "290fceab-e969-4c3c-b47c-a7330ab1e5ff",
   "metadata": {
    "tags": []
   },
   "source": [
    "## ข้อ 15"
   ]
  },
  {
   "cell_type": "code",
   "execution_count": null,
   "id": "465a6205-9789-47f6-9b18-dc62f5c9904c",
   "metadata": {},
   "outputs": [],
   "source": [
    "# Your answer\n",
    "%sql "
   ]
  },
  {
   "cell_type": "markdown",
   "id": "a7941a6a-97fe-427b-a308-85db8b49236d",
   "metadata": {
    "tags": []
   },
   "source": [
    "*Double click ที่นี่เพื่อดูเฉลย*\n",
    "\n",
    "<!--\n",
    "     SELECT *  \\\n",
    "     FROM   employee, \\\n",
    "            department \\\n",
    "     WHERE  dno = dnumber \\\n",
    "            AND mgr_ssn = \"111111100\";\n",
    "-->"
   ]
  },
  {
   "cell_type": "markdown",
   "id": "6ebe3fbf-e10b-4419-ae3c-9767fcb2e48a",
   "metadata": {
    "tags": []
   },
   "source": [
    "## ข้อ 16"
   ]
  },
  {
   "cell_type": "code",
   "execution_count": null,
   "id": "6137f68d-a633-4028-9abb-f48abb7091f0",
   "metadata": {},
   "outputs": [],
   "source": [
    "# Your answer\n",
    "%sql "
   ]
  },
  {
   "cell_type": "markdown",
   "id": "dec7704d-933b-4e3a-87e1-fa14ed438b70",
   "metadata": {
    "tags": []
   },
   "source": [
    "*Double click ที่นี่เพื่อดูเฉลย*\n",
    "\n",
    "<!--\n",
    "     SELECT dname AS `Department`, \\\n",
    "            SUM(salary) AS `Total Salary`, \\\n",
    "            AVG(salary) AS `Average Salary`, \\\n",
    "            MAX(salary) AS `Max Salary`, \\\n",
    "            MIN(salary) AS `Min Salary` \\\n",
    "     FROM   department \\\n",
    "     JOIN   employee ON dno = dnumber \\\n",
    "     GROUP BY dname \\\n",
    "     ORDER BY `Total Salary` DESC;\n",
    "-->"
   ]
  },
  {
   "cell_type": "markdown",
   "id": "c96411f2-4947-4b8d-b6e3-befafe709af3",
   "metadata": {
    "tags": []
   },
   "source": [
    "## ข้อ 17"
   ]
  },
  {
   "cell_type": "code",
   "execution_count": null,
   "id": "fd708e81-de19-4c1e-a380-ce6836b92802",
   "metadata": {},
   "outputs": [],
   "source": [
    "# Your answer\n",
    "%sql "
   ]
  },
  {
   "cell_type": "markdown",
   "id": "ae5b71fb-7f9d-4833-add5-ab1f0ad4d900",
   "metadata": {
    "tags": []
   },
   "source": [
    "*Double click ที่นี่เพื่อดูเฉลย*\n",
    "\n",
    "<!--\n",
    "     SELECT dname AS `Department`, \\\n",
    "            pname AS `Project`, \\\n",
    "            SUM(hours) AS `Total Hours` \\\n",
    "     FROM   works_on \\\n",
    "     JOIN   project ON pno = pnumber \\\n",
    "     JOIN   department ON dnum = dnumber \\\n",
    "     WHERE  dname NOT IN ( \\\n",
    "                             \"Headquarters\", \\\n",
    "                             \"Administration\" \\\n",
    "                         ) \\\n",
    "     GROUP BY pname;\n",
    "-->"
   ]
  },
  {
   "cell_type": "markdown",
   "id": "351a0d22-3019-4cc4-9946-6cf743dc37ef",
   "metadata": {
    "tags": []
   },
   "source": [
    "## ข้อ 18"
   ]
  },
  {
   "cell_type": "code",
   "execution_count": null,
   "id": "a4b9b9f0-0726-4c8f-a63f-efc64e6a79ba",
   "metadata": {},
   "outputs": [],
   "source": [
    "# Your answer\n",
    "%sql "
   ]
  },
  {
   "cell_type": "markdown",
   "id": "d592a487-edb6-4b0e-8cbd-5099f1349d5b",
   "metadata": {
    "tags": []
   },
   "source": [
    "*Double click ที่นี่เพื่อดูเฉลย*\n",
    "\n",
    "<!--\n",
    "     SELECT fname AS `First Name`, \\\n",
    "            minit AS `Middle Init`, \\\n",
    "            lname AS `Last Name`, \\\n",
    "            COUNT(*) AS `No. of Dependent` \\\n",
    "     FROM   dependent \\\n",
    "     JOIN   employee ON ssn = essn \\\n",
    "     GROUP BY essn \\\n",
    "     HAVING `No. of Dependent` >= 2 \\\n",
    "     ORDER BY `No. of Dependent` DESC;\n",
    "-->"
   ]
  },
  {
   "cell_type": "markdown",
   "id": "57e726af-cfee-446f-b631-50309206d09d",
   "metadata": {
    "tags": []
   },
   "source": [
    "## ข้อ 19"
   ]
  },
  {
   "cell_type": "code",
   "execution_count": null,
   "id": "650374fc-1028-4cab-97a7-26b66584fd03",
   "metadata": {},
   "outputs": [],
   "source": [
    "# Your answer\n",
    "%sql "
   ]
  },
  {
   "cell_type": "markdown",
   "id": "e5be0d59-3187-4ab1-bfa2-909981beafbc",
   "metadata": {
    "tags": []
   },
   "source": [
    "*Double click ที่นี่เพื่อดูเฉลย*\n",
    "\n",
    "<!--\n",
    "     SELECT dname AS `Department`, \\\n",
    "            pname AS `Project`, \\\n",
    "            SUM(hours) AS `Total Hours` \\\n",
    "     FROM   works_on \\\n",
    "     JOIN   project ON pno = pnumber \\\n",
    "     JOIN   department ON dnum = dnumber \\\n",
    "     WHERE  dname NOT IN ( \\\n",
    "                             \"Headquarters\", \\\n",
    "                             \"Administration\" \\\n",
    "                         ) \\\n",
    "     GROUP BY pname \\\n",
    "     HAVING `Total Hours` > 250 \\\n",
    "     ORDER BY `Total Hours`;\n",
    "-->"
   ]
  },
  {
   "cell_type": "markdown",
   "id": "84382c18-47e3-4d54-92b3-062ef3149e3c",
   "metadata": {
    "tags": []
   },
   "source": [
    "## ข้อ 20"
   ]
  },
  {
   "cell_type": "code",
   "execution_count": null,
   "id": "5010af2d-ef8d-4b39-a939-0905dc4fe175",
   "metadata": {},
   "outputs": [],
   "source": [
    "# Your answer\n",
    "%sql "
   ]
  },
  {
   "cell_type": "markdown",
   "id": "d9c2946a-2513-496d-a7e1-66bf03d57116",
   "metadata": {
    "tags": []
   },
   "source": [
    "*Double click ที่นี่เพื่อดูเฉลย*\n",
    "\n",
    "<!--\n",
    "     INSERT INTO department \\\n",
    "     (dname, dnumber, mgr_ssn, mgr_start_date) \\\n",
    "     VALUES (\"Accounting\", 2, \"222222200\", \"1980-06-01\");\n",
    "-->"
   ]
  },
  {
   "cell_type": "markdown",
   "id": "3e3f4b02-e834-46ca-a5d5-41a8c274336b",
   "metadata": {
    "tags": []
   },
   "source": [
    "## ข้อ 21"
   ]
  },
  {
   "cell_type": "code",
   "execution_count": null,
   "id": "23cfec7a-54be-44b8-b699-29d3474a458b",
   "metadata": {},
   "outputs": [],
   "source": [
    "# Your answer\n",
    "%sql "
   ]
  },
  {
   "cell_type": "markdown",
   "id": "2ab49971-6480-408f-9d39-845cac756bfd",
   "metadata": {
    "tags": []
   },
   "source": [
    "*Double click ที่นี่เพื่อดูเฉลย*\n",
    "\n",
    "<!--\n",
    "     INSERT INTO employee \\\n",
    "     (fname, lname, ssn, dno) \\\n",
    "     VALUES (\"Jack\", \"Bloom\", \"222222222\", 6);\n",
    "-->"
   ]
  },
  {
   "cell_type": "markdown",
   "id": "d202133b-9bbc-4b2b-835c-ba845704cf23",
   "metadata": {
    "tags": []
   },
   "source": [
    "## ข้อ 22"
   ]
  },
  {
   "cell_type": "code",
   "execution_count": null,
   "id": "38e45d46-9297-4913-8518-76d79873a8e8",
   "metadata": {},
   "outputs": [],
   "source": [
    "# Your answer\n",
    "%sql "
   ]
  },
  {
   "cell_type": "markdown",
   "id": "4e702a62-b557-42f0-923b-a494ede4c5ec",
   "metadata": {
    "tags": []
   },
   "source": [
    "*Double click ที่นี่เพื่อดูเฉลย*\n",
    "\n",
    "<!--\n",
    "     UPDATE department \\\n",
    "     SET    mgr_start_date = \"1995-02-01\" \\\n",
    "     WHERE  dname = \"Administration\";\n",
    "-->"
   ]
  },
  {
   "cell_type": "markdown",
   "id": "0d4d6a67-c30a-4536-b1fc-77b97fc189ea",
   "metadata": {
    "tags": []
   },
   "source": [
    "## ข้อ 23"
   ]
  },
  {
   "cell_type": "code",
   "execution_count": null,
   "id": "a0eb7310-ac18-482c-bd35-05067fcaee0f",
   "metadata": {},
   "outputs": [],
   "source": [
    "# Your answer\n",
    "%sql "
   ]
  },
  {
   "cell_type": "markdown",
   "id": "50d0cf42-c167-4d6a-9987-71e52b1ce253",
   "metadata": {
    "tags": []
   },
   "source": [
    "*Double click ที่นี่เพื่อดูเฉลย*\n",
    "\n",
    "<!--\n",
    "     DELETE FROM department \\\n",
    "     WHERE  mgr_ssn = \"222222200\";\n",
    "-->"
   ]
  },
  {
   "cell_type": "markdown",
   "id": "646ef85b-8dd3-4468-9b71-4c5420f493b6",
   "metadata": {
    "tags": []
   },
   "source": [
    "## ข้อ 24"
   ]
  },
  {
   "cell_type": "code",
   "execution_count": null,
   "id": "e678205f-efd4-4305-a62d-c956dd06b81c",
   "metadata": {},
   "outputs": [],
   "source": [
    "# Your answer\n",
    "%sql "
   ]
  },
  {
   "cell_type": "markdown",
   "id": "bfd742bb-0a0f-42f5-8073-68ae8c9e2765",
   "metadata": {
    "tags": []
   },
   "source": [
    "*Double click ที่นี่เพื่อดูเฉลย*\n",
    "\n",
    "<!--\n",
    "     UPDATE employee \\\n",
    "     SET    salary = 1.05 * salary \\\n",
    "     WHERE  dno = (SELECT dnumber \\\n",
    "                   FROM   department \\\n",
    "                   WHERE  dname = \"Research\" \\\n",
    "                  ) \\\n",
    "            AND salary < 30000;\n",
    "-->"
   ]
  },
  {
   "cell_type": "markdown",
   "id": "543f8eb6-0307-4ba5-a3ba-57eddfd5dc07",
   "metadata": {
    "tags": []
   },
   "source": [
    "## ข้อ 25"
   ]
  },
  {
   "cell_type": "code",
   "execution_count": null,
   "id": "bdefa69c-f7a4-48ae-90b5-dcef6f2a226d",
   "metadata": {},
   "outputs": [],
   "source": [
    "# Your answer\n",
    "%sql "
   ]
  },
  {
   "cell_type": "markdown",
   "id": "11c50fc3-fc4b-4cc0-908d-e841280a2b69",
   "metadata": {
    "tags": []
   },
   "source": [
    "*Double click ที่นี่เพื่อดูเฉลย*\n",
    "\n",
    "<!--\n",
    "     UPDATE works_on \\\n",
    "     SET    hours = 45 \\\n",
    "     WHERE  hours > 45 \\\n",
    "            AND essn IN (SELECT ssn \\\n",
    "                         FROM   employee \\\n",
    "                         JOIN   department ON dno = dnumber \\\n",
    "                         WHERE  dname = \"Software\" \\\n",
    "                        );\n",
    "-->"
   ]
  },
  {
   "cell_type": "markdown",
   "id": "f9b7a0ce-99cc-4e78-ac4b-38fbbc21e6d8",
   "metadata": {
    "tags": []
   },
   "source": [
    "## ข้อ 26"
   ]
  },
  {
   "cell_type": "code",
   "execution_count": null,
   "id": "d750053d-4009-4a44-bdaf-46b5bf49dc80",
   "metadata": {},
   "outputs": [],
   "source": [
    "# Your answer\n",
    "%sql "
   ]
  },
  {
   "cell_type": "markdown",
   "id": "4b6cae0f-d319-47d4-8b57-149d8faff7c8",
   "metadata": {
    "tags": []
   },
   "source": [
    "*Double click ที่นี่เพื่อดูเฉลย*\n",
    "\n",
    "<!--\n",
    "     DELETE FROM works_on \\\n",
    "     WHERE  essn IN (SELECT ssn \\\n",
    "                     FROM   employee \\\n",
    "                     WHERE  super_ssn = \"333445555\" \\\n",
    "                    ) \\\n",
    "            AND pno IN (SELECT pnumber \\\n",
    "                        FROM   project \\\n",
    "                        WHERE  plocation = \"Bellaire\" \\\n",
    "                       );\n",
    "-->"
   ]
  }
 ],
 "metadata": {
  "kernelspec": {
   "display_name": "Python 3 (ipykernel)",
   "language": "python",
   "name": "python3"
  },
  "language_info": {
   "codemirror_mode": {
    "name": "ipython",
    "version": 3
   },
   "file_extension": ".py",
   "mimetype": "text/x-python",
   "name": "python",
   "nbconvert_exporter": "python",
   "pygments_lexer": "ipython3",
   "version": "3.10.5"
  }
 },
 "nbformat": 4,
 "nbformat_minor": 5
}
