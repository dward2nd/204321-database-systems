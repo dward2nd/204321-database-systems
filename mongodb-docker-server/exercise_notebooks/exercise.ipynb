{
 "cells": [
  {
   "cell_type": "code",
   "execution_count": 2,
   "id": "343a3bc9-61d7-4ef0-91f8-f4a473d48989",
   "metadata": {},
   "outputs": [
    {
     "name": "stdout",
     "output_type": "stream",
     "text": [
      "/bin/sh: 1: mongosh: not found\n"
     ]
    }
   ],
   "source": [
    "!mongosh --username root --password 7B2NBV5kcvr61OIB --authenticationDatabase cscmu_mongo --host localhost --port 27017"
   ]
  }
 ],
 "metadata": {
  "kernelspec": {
   "display_name": "Python 3 (ipykernel)",
   "language": "python",
   "name": "python3"
  },
  "language_info": {
   "codemirror_mode": {
    "name": "ipython",
    "version": 3
   },
   "file_extension": ".py",
   "mimetype": "text/x-python",
   "name": "python",
   "nbconvert_exporter": "python",
   "pygments_lexer": "ipython3",
   "version": "3.7.13"
  }
 },
 "nbformat": 4,
 "nbformat_minor": 5
}
